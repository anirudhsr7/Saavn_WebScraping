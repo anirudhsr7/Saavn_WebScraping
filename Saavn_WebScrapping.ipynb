{
 "cells": [
  {
   "cell_type": "code",
   "execution_count": 1,
   "metadata": {},
   "outputs": [],
   "source": [
    "from bs4 import BeautifulSoup\n",
    "import requests\n",
    "import pandas as pd"
   ]
  },
  {
   "cell_type": "code",
   "execution_count": 2,
   "metadata": {},
   "outputs": [],
   "source": [
    "res = requests.get('https://www.jiosaavn.com/featured/weekly-top-songs/8MT-LQlP35c_')"
   ]
  },
  {
   "cell_type": "code",
   "execution_count": 3,
   "metadata": {},
   "outputs": [],
   "source": [
    "soup = BeautifulSoup(res.text, 'lxml')"
   ]
  },
  {
   "cell_type": "code",
   "execution_count": 4,
   "metadata": {},
   "outputs": [],
   "source": [
    "data = soup.find('ol', {'class':'content-list'})"
   ]
  },
  {
   "cell_type": "code",
   "execution_count": 5,
   "metadata": {},
   "outputs": [],
   "source": [
    "#print(data.prettify())"
   ]
  },
  {
   "cell_type": "code",
   "execution_count": 6,
   "metadata": {},
   "outputs": [],
   "source": [
    "all_songs = data.find_all('div', {'class':'details'})"
   ]
  },
  {
   "cell_type": "code",
   "execution_count": 7,
   "metadata": {},
   "outputs": [],
   "source": [
    "#print(all_songs)"
   ]
  },
  {
   "cell_type": "code",
   "execution_count": 8,
   "metadata": {},
   "outputs": [],
   "source": [
    "rank = []\n",
    "songs = []\n",
    "top_songs = []"
   ]
  },
  {
   "cell_type": "code",
   "execution_count": 9,
   "metadata": {},
   "outputs": [
    {
     "name": "stdout",
     "output_type": "stream",
     "text": [
      "1 Apna Time Aayega\n",
      "2 Coca Cola\n",
      "3 BIBA\n",
      "4 Ek Ladki Ko Dekha Toh Aisa Laga - Title Track\n",
      "5 Photo\n",
      "6 Dil Mein Ho Tum\n",
      "7 Aankh Marey\n",
      "8 Bhula Diya\n",
      "9 Asli Hip Hop\n",
      "10 Tu Na Mera\n",
      "11 Kyun Rabba\n",
      "12 Nai Lagda\n",
      "13 Mere Naam Tu\n",
      "14 Mungda\n",
      "15 NY Se Mumbai\n",
      "16 Leja Re\n",
      "17 Machayenge\n",
      "18 Qaafirana\n",
      "19 Makhna\n",
      "20 Chamma Chamma\n",
      "21 Jo Tu Na Mila\n",
      "22 Akh Lad Jaave\n",
      "23 Tere Bin\n",
      "24 Pal\n",
      "25 Proper Patola\n",
      "26 Dekhte Dekhte\n",
      "27 Poster Lagwa Do\n",
      "28 Urvashi\n",
      "29 Chogada\n",
      "30 She Move It Like\n"
     ]
    }
   ],
   "source": [
    "for count,s in enumerate(all_songs,1):\n",
    "    song = s.find('p', {'class':'song-name'})\n",
    "    rank.append(count)\n",
    "    songs.append(song.text)\n",
    "    print(count, song.text)"
   ]
  },
  {
   "cell_type": "code",
   "execution_count": 10,
   "metadata": {},
   "outputs": [],
   "source": [
    "top_songs = list(zip(rank, songs))"
   ]
  },
  {
   "cell_type": "code",
   "execution_count": 11,
   "metadata": {},
   "outputs": [],
   "source": [
    "top_songs_df = pd.DataFrame(data = top_songs, columns=[\"Rank\",\"Song_Name\"])"
   ]
  },
  {
   "cell_type": "code",
   "execution_count": 12,
   "metadata": {},
   "outputs": [],
   "source": [
    "top_songs_df.to_csv(\"TopSongs.csv\", index = False, header = True)"
   ]
  },
  {
   "cell_type": "code",
   "execution_count": 13,
   "metadata": {},
   "outputs": [],
   "source": [
    "songs_data = pd.read_csv(\"TopSongs.csv\")"
   ]
  },
  {
   "cell_type": "code",
   "execution_count": 14,
   "metadata": {},
   "outputs": [
    {
     "name": "stdout",
     "output_type": "stream",
     "text": [
      "    Rank                                      Song_Name\n",
      "0      1                               Apna Time Aayega\n",
      "1      2                                      Coca Cola\n",
      "2      3                                           BIBA\n",
      "3      4  Ek Ladki Ko Dekha Toh Aisa Laga - Title Track\n",
      "4      5                                          Photo\n",
      "5      6                                Dil Mein Ho Tum\n",
      "6      7                                    Aankh Marey\n",
      "7      8                                     Bhula Diya\n",
      "8      9                                   Asli Hip Hop\n",
      "9     10                                     Tu Na Mera\n",
      "10    11                                     Kyun Rabba\n",
      "11    12                                      Nai Lagda\n",
      "12    13                                   Mere Naam Tu\n",
      "13    14                                         Mungda\n",
      "14    15                                   NY Se Mumbai\n",
      "15    16                                        Leja Re\n",
      "16    17                                     Machayenge\n",
      "17    18                                      Qaafirana\n",
      "18    19                                         Makhna\n",
      "19    20                                  Chamma Chamma\n",
      "20    21                                  Jo Tu Na Mila\n",
      "21    22                                  Akh Lad Jaave\n",
      "22    23                                       Tere Bin\n",
      "23    24                                            Pal\n",
      "24    25                                  Proper Patola\n",
      "25    26                                  Dekhte Dekhte\n",
      "26    27                                Poster Lagwa Do\n",
      "27    28                                        Urvashi\n",
      "28    29                                        Chogada\n",
      "29    30                               She Move It Like\n"
     ]
    }
   ],
   "source": [
    "print(songs_data)"
   ]
  },
  {
   "cell_type": "code",
   "execution_count": null,
   "metadata": {},
   "outputs": [],
   "source": []
  }
 ],
 "metadata": {
  "kernelspec": {
   "display_name": "Python 3",
   "language": "python",
   "name": "python3"
  },
  "language_info": {
   "codemirror_mode": {
    "name": "ipython",
    "version": 3
   },
   "file_extension": ".py",
   "mimetype": "text/x-python",
   "name": "python",
   "nbconvert_exporter": "python",
   "pygments_lexer": "ipython3",
   "version": "3.6.5"
  }
 },
 "nbformat": 4,
 "nbformat_minor": 2
}
